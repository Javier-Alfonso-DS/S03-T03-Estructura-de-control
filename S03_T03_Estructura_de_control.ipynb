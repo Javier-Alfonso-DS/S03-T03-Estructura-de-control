{
  "nbformat": 4,
  "nbformat_minor": 0,
  "metadata": {
    "colab": {
      "name": "S03 T03: Estructura de control.ipynb",
      "provenance": [],
      "authorship_tag": "ABX9TyPOSdDIJaZl0V8nuuF61++y",
      "include_colab_link": true
    },
    "kernelspec": {
      "name": "python3",
      "display_name": "Python 3"
    },
    "language_info": {
      "name": "python"
    }
  },
  "cells": [
    {
      "cell_type": "markdown",
      "metadata": {
        "id": "view-in-github",
        "colab_type": "text"
      },
      "source": [
        "<a href=\"https://colab.research.google.com/github/Javier-Alfonso-DS/S03-T03-Estructura-de-control/blob/main/S03_T03_Estructura_de_control.ipynb\" target=\"_parent\"><img src=\"https://colab.research.google.com/assets/colab-badge.svg\" alt=\"Open In Colab\"/></a>"
      ]
    },
    {
      "cell_type": "markdown",
      "metadata": {
        "id": "qv-JHrBTRe4C"
      },
      "source": [
        "- Exercici 1\n",
        "\n",
        "---\n",
        "\n",
        "\n",
        "L'exercici consisteix a crear un programa que et classifiqui una variable numèrica en funció de l’escala Suspès/Aprovat/Notable/Excel·lent.\n",
        "\n",
        "\n"
      ]
    },
    {
      "cell_type": "code",
      "metadata": {
        "colab": {
          "base_uri": "https://localhost:8080/"
        },
        "id": "V8x49ApJ010O",
        "outputId": "8119a875-2b0a-49b7-8eac-d569c96d2038"
      },
      "source": [
        "NotaNumerica = float(input(\"Introdueix la nota numèrica ( 0 a 10) i li retornarem la seva valoració \"))\n",
        "if NotaNumerica >= 0 and NotaNumerica <= 5 : print(\"Suspès\")\n",
        "elif NotaNumerica < 7 : print (\"Aprovat\")\n",
        "elif NotaNumerica < 9 : print (\"Notable\")\n",
        "elif NotaNumerica <= 10 : print (\"Excel·lent\")\n",
        "else: print(\"Introdueixi la nota entre 0 i 10 siusplau\")"
      ],
      "execution_count": null,
      "outputs": [
        {
          "output_type": "stream",
          "name": "stdout",
          "text": [
            "Introdueix la nota numèrica ( 0 a 10) i li retornarem la seva valoració 9.3\n",
            "Excel·lent\n"
          ]
        }
      ]
    },
    {
      "cell_type": "markdown",
      "metadata": {
        "id": "TxkEAP-V0PAW"
      },
      "source": [
        "- Exercici 2\n",
        "\n",
        "---\n",
        "\n",
        "\n",
        "Utilitzant el següent tutorial Programiz: Python Input, Output and Import crea un programa que et pregunti dos números. T’ha de mostrar un missatge dient si el primer és més gran,\n",
        "el segon és més gran o són iguals.\n",
        "\n"
      ]
    },
    {
      "cell_type": "code",
      "metadata": {
        "id": "1NSpSNSC0wY6",
        "colab": {
          "base_uri": "https://localhost:8080/"
        },
        "outputId": "fa6d7af8-9950-4f54-cd7b-aca3429260f3"
      },
      "source": [
        "Numero1 = float(input(\"Introdueix el primer número: \"))\n",
        "Numero2 = float(input(\"Introdueix el segon número: \"))\n",
        "\n",
        "if   Numero1 >  Numero2 : print(\"El primer número es més gran que el segon.\")\n",
        "elif Numero1 <  Numero2 : print(\"El primer número es més petit que el segon.\")\n",
        "else: print(\"Els 2 números son iguals.\")"
      ],
      "execution_count": null,
      "outputs": [
        {
          "output_type": "stream",
          "name": "stdout",
          "text": [
            "Introdueix el primer número 4.5\n",
            "Introdueix el segon número 7.4\n",
            "El primer número es més petit que el segon.\n"
          ]
        }
      ]
    },
    {
      "cell_type": "markdown",
      "metadata": {
        "id": "Rc-YtY18R6Mp"
      },
      "source": [
        "- Exercici 3\n",
        "\n",
        "---\n",
        "\n",
        "\n",
        "Crea un programa que et pregunti el teu nom, i et demani un número. Si el número és 0, hauria de mostrar un missatge d’error. En cas contrari, \n",
        "hauria de mostrar el nom repetit tants cops com indiqui el número. Per exemple, “Joan Joan Joan”.\n",
        "\n"
      ]
    },
    {
      "cell_type": "code",
      "metadata": {
        "colab": {
          "base_uri": "https://localhost:8080/"
        },
        "id": "wUBqOs31R8Hw",
        "outputId": "0a92f299-7a7c-4726-927b-e63bf64987ac"
      },
      "source": [
        "Nom = (input(\"Introdueix el teu nom: \"))\n",
        "Numero1 = int(input(\"Introdueix un número: \"))\n",
        "if Numero1 == 0 : print(\"Error, número ha de ser >0\")\n",
        "else:\n",
        "  print(Nom * Numero1)"
      ],
      "execution_count": null,
      "outputs": [
        {
          "output_type": "stream",
          "name": "stdout",
          "text": [
            "Introdueix el teu nom: Javi \n",
            "Introdueix un número: 7\n",
            "Javi Javi Javi Javi Javi Javi Javi \n"
          ]
        }
      ]
    },
    {
      "cell_type": "markdown",
      "metadata": {
        "id": "aLcVJ-AvR8gQ"
      },
      "source": [
        "- Exercici 4\n",
        "\n",
        "---\n",
        "\n",
        "\n",
        "Crea un programa que donada una llista qualsevol, et digui si es simètrica o no. Si ho és, que et digui quants elements té.\n",
        "\n"
      ]
    },
    {
      "cell_type": "code",
      "metadata": {
        "id": "qyfLHtXmR9ig",
        "colab": {
          "base_uri": "https://localhost:8080/"
        },
        "outputId": "5950ea47-ab31-45d7-bfd5-24b5f991a99d"
      },
      "source": [
        "llista = [1,2,3,4,5,6,7,5,4,3,2,1]\n",
        "sim=False\n",
        "l=len(llista)\n",
        "l2=int(l/2)\n",
        "a=llista[:l2]\n",
        "b=llista[l2:]\n",
        "print(a,b)\n",
        "if len(a)<len(b): b.pop(0)\n",
        "\n",
        "if len(a) == len (b):\n",
        "  for x in range(len(a)):\n",
        "    if a[x] == b[-1-x]:sim=True\n",
        "    else: \n",
        "      print(\"no sim\")\n",
        "      sim=False\n",
        "      break\n",
        "if sim: print(\"Llista simètrica\")\n",
        "\n",
        "  "
      ],
      "execution_count": null,
      "outputs": [
        {
          "output_type": "stream",
          "name": "stdout",
          "text": [
            "[1, 2, 3, 4, 5, 6] [7, 5, 4, 3, 2, 1]\n",
            "no sim\n"
          ]
        }
      ]
    },
    {
      "cell_type": "markdown",
      "metadata": {
        "id": "dwrAYSqX0Hc2"
      },
      "source": [
        "\n",
        "Exercici 4 resolt amb funciò recursiva (molt més elegant)"
      ]
    },
    {
      "cell_type": "code",
      "metadata": {
        "colab": {
          "base_uri": "https://localhost:8080/"
        },
        "id": "F5GaXkcz3mFI",
        "outputId": "4a236b42-246d-48f0-d4ce-53cee23c24e2"
      },
      "source": [
        "def simetrica (lista):\n",
        "  if len(lista)==1 or len(lista)==2: return lista[0]==lista[-1]\n",
        "  else: \n",
        "    if lista[0]!=lista[-1]: return False\n",
        "    else: return simetrica(lista[1:-1])\n",
        "\n",
        "llista = [1,2,3,4,5,6,7,7,6,5,5,3,2,1]\n",
        "print(llista)\n",
        "if simetrica(llista): print(\"la llista és simètrica!\")\n",
        "else: print(\"la llista no és simètrica!\")\n",
        "                  \n",
        "llista = [1,2,3,4,5,6,7,7,6,5,4,3,2,1]\n",
        "print(llista)\n",
        "if simetrica(llista): print(\"la llista és simètrica!\")\n",
        "else: print(\"la llista no és simètrica!\")                "
      ],
      "execution_count": 1,
      "outputs": [
        {
          "output_type": "stream",
          "name": "stdout",
          "text": [
            "[1, 2, 3, 4, 5, 6, 7, 7, 6, 5, 5, 3, 2, 1]\n",
            "la llista no és simètrica!\n",
            "[1, 2, 3, 4, 5, 6, 7, 7, 6, 5, 4, 3, 2, 1]\n",
            "la llista és simètrica!\n"
          ]
        }
      ]
    },
    {
      "cell_type": "markdown",
      "metadata": {
        "id": "d6yjD8GxSPVI"
      },
      "source": [
        "- Exercici 5\n",
        "\n",
        "---\n",
        "\n",
        "\n",
        "Crea un programa que donada una llista, et digui quants números coincideixen amb la seva posició. Per exemple [3,4,2,0,2,3,6] el 2 i el 6 coincideixen."
      ]
    },
    {
      "cell_type": "code",
      "metadata": {
        "id": "lRz10I33SRlD",
        "colab": {
          "base_uri": "https://localhost:8080/"
        },
        "outputId": "41291209-779c-447e-d35d-be9771c2d7a9"
      },
      "source": [
        "llista = [3,4,2,0,2,3,6]\n",
        "for x in range(len(llista)):\n",
        "  if llista[x] == x : print(\"Aquest número coincideix el seu valor i el seu index: \",x)"
      ],
      "execution_count": null,
      "outputs": [
        {
          "output_type": "stream",
          "name": "stdout",
          "text": [
            "Aquest número coincideix el seu valor i el seu index:  2\n",
            "Aquest número coincideix el seu valor i el seu index:  6\n"
          ]
        }
      ]
    }
  ]
}